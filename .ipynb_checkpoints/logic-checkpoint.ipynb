{
 "cells": [
  {
   "cell_type": "markdown",
   "metadata": {},
   "source": [
    "## libraries"
   ]
  },
  {
   "cell_type": "code",
   "execution_count": 1,
   "metadata": {},
   "outputs": [],
   "source": [
    "#!pip install nltk\n",
    "#!pip install textdistance\n",
    "import pandas as pd\n",
    "import regex\n",
    "import string\n",
    "import nltk\n",
    "from nltk.corpus import stopwords\n",
    "import textdistance as td\n",
    "import numpy as np"
   ]
  },
  {
   "cell_type": "markdown",
   "metadata": {},
   "source": [
    "## cleaned dataset"
   ]
  },
  {
   "cell_type": "code",
   "execution_count": 2,
   "metadata": {},
   "outputs": [],
   "source": [
    "df = pd.read_csv('https://raw.githubusercontent.com/satyam9090/Comparing-Cosmetics-by-Ingredients/master/datasets/cosmetics.csv')\n",
    "df.head()\n",
    "starts_with_visit = df[df.Ingredients.str.startswith(\"Visit\")]\n",
    "df = pd.concat([df, starts_with_visit]).drop_duplicates(keep=False) #we are droping the duplicate values, the ones whose ingredients start with Visit are dropped\n",
    "df.Ingredients.str.startswith(\"Visit\").sum() #checking whether there are any that start with Visit\n",
    "df = df[~df.Ingredients.isin([\"#NAME?\",\"No Info\"])]\n",
    "starts_with_st_change = df[df.Ingredients.str.startswith(\"This ingredient list is subject to change\")]\n",
    "df = pd.concat([df,starts_with_st_change]).drop_duplicates(keep = False)\n",
    "starts_with_asteriks = df[df.Ingredients.str.startswith(\"*\")]\n",
    "df = pd.concat([df, starts_with_asteriks]).drop_duplicates(keep = False)\n",
    "df = df[df.Ingredients != '-4MSK: Helps remove melanin trapped in dark spots and ion force complex works to slough off the surface cells that contain melanin.']"
   ]
  },
  {
   "cell_type": "markdown",
   "metadata": {},
   "source": [
    "## test variables"
   ]
  },
  {
   "cell_type": "code",
   "execution_count": null,
   "metadata": {},
   "outputs": [],
   "source": []
  },
  {
   "cell_type": "markdown",
   "metadata": {},
   "source": [
    "## cleaning the string"
   ]
  },
  {
   "cell_type": "code",
   "execution_count": 122,
   "metadata": {},
   "outputs": [
    {
     "name": "stdout",
     "output_type": "stream",
     "text": [
      "Water Glycolic Acid Butylene Glycol Glycerin Sodium Hydroxide Salicylic Acid Lactic Acid Citric Acid Vitis Vinifera Grape Juice Extract Aloe Barbadensis Leaf Juice Opuntia FicusIndica Extract Aesculus Hippocastanum Horse Chestnut Seed Extract Camellia Sinensis Leaf Extract Rubus Idaeus Raspberry Fruit Extract Saccharomyces Cerevisiae Extract Buddleja Davidii Meristem Cell Culture Sclerocarya Birrea Seed Oil Sodium Hyaluronate Crosspolymer Allantoin Hydroxyethylcellulose Galactoarabinan Propanediol Disodium EDTA Xanthan Gum Hexylene Glycol Phenoxyethanol Caprylyl Glycol Ethylhexylglycerin Sodium Nitrate Potassium Sorbate Pentylene Glycol Sodium Benzoate\n"
     ]
    },
    {
     "name": "stderr",
     "output_type": "stream",
     "text": [
      "[nltk_data] Downloading package stopwords to\n",
      "[nltk_data]     C:\\Users\\1\\AppData\\Roaming\\nltk_data...\n",
      "[nltk_data]   Package stopwords is already up-to-date!\n"
     ]
    }
   ],
   "source": [
    "nltk.download('stopwords')\n",
    "stopwords_ = stopwords.words('english')\n",
    "def clean_string(text):\n",
    "    text = ''.join([word for word in text if word not in string.punctuation])\n",
    "    text = ' '.join([word for word in text.split() if word not in stopwords_])\n",
    "    return text\n",
    "cleaned = clean_string(ingredients)\n",
    "print(cleaned)"
   ]
  },
  {
   "cell_type": "markdown",
   "metadata": {},
   "source": [
    "## function"
   ]
  },
  {
   "cell_type": "code",
   "execution_count": 168,
   "metadata": {},
   "outputs": [],
   "source": [
    "def cosmetics_with_ingredients(cleaned, label, skintype):\n",
    "    if ('Not sure' in label) and ('Not sure' in skintype):\n",
    "        \n",
    "        df_high_rank = df[df.Rank>=4]\n",
    "        df_high_rank.reset_index(drop=True, inplace=True)\n",
    "        matches = []\n",
    "        indexes = []\n",
    "        for i in df_high_rank.Ingredients:\n",
    "            matches.append(td.sorensen.normalized_similarity(cleaned,i))\n",
    "        for i, value in enumerate(matches):\n",
    "            if value == max(matches):\n",
    "                indexes.append(i)\n",
    "        \n",
    "        if max(matches)*100>=70:\n",
    "            skintypes_test = {}\n",
    "            for i in indexes:\n",
    "                skins = []\n",
    "                the_best_one_test = df_high_rank[df_high_rank.index == i]\n",
    "                if the_best_one_test.Combination[i] == 1:\n",
    "                    skins.append('Combination')\n",
    "                if the_best_one_test.Dry[i] == 1:\n",
    "                    skins.append('Dry')\n",
    "                if the_best_one_test.Normal[i] == 1:\n",
    "                    skins.append('Normal')\n",
    "                if the_best_one_test.Oily[i] == 1:\n",
    "                    skins.append('Oily')\n",
    "                if the_best_one_test.Sensitive[i] ==1:\n",
    "                    skins.append('Sensitive') \n",
    "                skintypes_test[i] = skins\n",
    "            \n",
    "                \n",
    "            \n",
    "            more_skins = []\n",
    "            for i, v in zip(skintypes_test.keys(), skintypes_test.values()):\n",
    "                if len(v) >= 4:\n",
    "                    more_skins.append(i)\n",
    "                \n",
    "            \n",
    "            final = df_high_rank.iloc[more_skins]\n",
    "            final = final[final.columns[~(final.columns == 'Ingredients')]]\n",
    "            final.reset_index(drop=True, inplace=True)\n",
    "            final.sort_values('Rank', ascending=False, inplace=True)\n",
    "            return final.to_dict('records'), [{\"name\": i, \"id\": i} for i in final.columns]\n",
    "            output_text = (\"With the given ingredients, we found the following profucts. This table should help you decide whether you can use the cosmetics or not.\")\n",
    "        else:\n",
    "            print('Sorry, we are not familiar with such a combination of cosmetics.')\n",
    "    elif 'Not sure' not in label and 'Not sure' in skintype:\n",
    "                df_label = df.loc[df.Label.apply(lambda x: x in label)]\n",
    "                matches = []\n",
    "                indexes = []\n",
    "                for i in df_label.Ingredients:\n",
    "                    matches.append(td.sorensen.normalized_similarity(cleaned,i))\n",
    "                for i, value in enumerate(matches):\n",
    "                    if value == max(matches):\n",
    "                        indexes.append(i)\n",
    "            \n",
    "                if max(matches)*100>=70:\n",
    "                    final = df_label.iloc[indexes, :]\n",
    "                    display(final)\n",
    "                else:\n",
    "                    output_text = 'Sorry, we are not familiar with such a combination of cosmetics.'\n",
    "\n",
    "    elif ('Not sure' not in label) and ('Not sure' not in skintype):\n",
    "        df_label = df[df.Label.apply(lambda x: x in label)]\n",
    "        matches = []\n",
    "        indexes = []\n",
    "        for i in df_label.Ingredients:\n",
    "            matches.append(td.sorensen.normalized_similarity(cleaned,i))\n",
    "        for i, value in enumerate(matches):\n",
    "            if value == max(matches):\n",
    "                indexes.append(i)\n",
    "                \n",
    "        if max(matches)*100>=70:\n",
    "            skintypes_test = {}\n",
    "            for i in indexes:\n",
    "                the_best_one_test = df_label.iloc[i, ]\n",
    "                \n",
    "                skins = []\n",
    "                if the_best_one_test.Combination == 1:\n",
    "                    skins.append('Combination')\n",
    "                if the_best_one_test.Dry == 1:\n",
    "                    skins.append('Dry')\n",
    "                if the_best_one_test.Normal == 1:\n",
    "                    skins.append('Normal')\n",
    "                if the_best_one_test.Oily == 1:\n",
    "                    skins.append('Oily')\n",
    "                if the_best_one_test.Sensitive ==1:\n",
    "                    skins.append('Sensitive') \n",
    "                skintypes_test[i]=skins\n",
    "    \n",
    "            matched=[]\n",
    "            if len(skins)==0:\n",
    "                matches=[]\n",
    "                \n",
    "            elif len(skins)!=0:\n",
    "                for i, v in zip(skintypes_test.keys(), skintypes_test.values()):\n",
    "                    \n",
    "                    if set(skintype).issubset(set(v)):\n",
    "                        matched.append(i)\n",
    "            if len(matches)!=0:\n",
    "                output_text = 'This cosmetics fits your skin type with '+str(int(max(matches)*100))+'%'\n",
    "                print(output_text)\n",
    "            else:\n",
    "                output_text = 'This cosmetics does not match your skin type, please use our first page to get a recommendation from us',\n",
    "                print(output_text)\n",
    "        else:\n",
    "            output_text = 'Sorry, we are not familiar with such a combination of cosmetics.'\n",
    "            \n",
    "    elif ('Not sure' in label) and ('Not sure' not in skintype):\n",
    "        \n",
    "        matches = []\n",
    "        for i in df.Ingredients:\n",
    "            matches.append(td.sorensen.normalized_similarity(cleaned,i))\n",
    "        for i, value in enumerate(matches):\n",
    "            if value == np.max(matches):\n",
    "                max_index = i\n",
    "        \n",
    "        if max(matches)*100>=70:\n",
    "            \n",
    "            the_best_cosmetics = df[df.index == max_index]\n",
    "            skintypes = []\n",
    "            if the_best_cosmetics.Combination[max_index] == 1:\n",
    "                skintypes.append('Combination')\n",
    "            if the_best_cosmetics.Dry[max_index] == 1:\n",
    "                skintypes.append('Dry')\n",
    "            if the_best_cosmetics.Normal[max_index] == 1:\n",
    "                skintypes.append('Normal')\n",
    "            if the_best_cosmetics.Oily[max_index] == 1:\n",
    "                skintypes.append('Oily')\n",
    "            if the_best_cosmetics.Sensitive[max_index] == 1:\n",
    "                skintypes.append('Sensitive')\n",
    "                \n",
    "            \n",
    "            if set(skintype).issubset(set(skintypes)):\n",
    "                \n",
    "                output_text = 'These ingredients are okay for your skin type! You can use the cosmetics with the given ingredients'\n",
    "                output_text = 'The cosmetics matches with your skin with approximately', int(max(matches)*100), '%'\n",
    "                print(output_text)\n",
    "        else:\n",
    "            output_text = 'Sorry, we are not familiar with such a combination of cosmetics.'\n",
    "            print(output_text)"
   ]
  },
  {
   "cell_type": "code",
   "execution_count": 169,
   "metadata": {},
   "outputs": [],
   "source": [
    "#ingredients='Algae (Seaweed) Extract, Mineral Oil, Petrolatum, Glycerin, Isohexadecane, Microcrystalline Wax, Lanolin Alcohol, Citrus Aurantifolia (Lime) Extract, Sesamum Indicum (Sesame) Seed Oil, Eucalyptus Globulus (Eucalyptus) Leaf Oil, Sesamum Indicum (Sesame) Seed Powder, Medicago Sativa (Alfalfa) Seed Powder, Helianthus Annuus (Sunflower) Seedcake, Prunus Amygdalus Dulcis (Sweet Almond) Seed Meal, Sodium Gluconate, Copper Gluconate, Calcium Gluconate, Magnesium Gluconate, Zinc Gluconate, Magnesium Sulfate, Paraffin, Tocopheryl Succinate, Niacin, Water, Beta-Carotene, Decyl Oleate, Aluminum Distearate, Octyldodecanol, Citric Acid, Cyanocobalamin, Magnesium Stearate, Panthenol, Limonene, Geraniol, Linalool, Hydroxycitronellal, Citronellol, Benzyl Salicylate, Citral, Sodium Benzoate, Alcohol Denat., Fragrance.'\n",
    "ingredients = df.Ingredients[299]\n",
    "label = ['Cleanser']\n",
    "skintype = ['Oily']\n"
   ]
  },
  {
   "cell_type": "markdown",
   "metadata": {},
   "source": [
    "## testing function\n"
   ]
  },
  {
   "cell_type": "code",
   "execution_count": null,
   "metadata": {},
   "outputs": [],
   "source": []
  },
  {
   "cell_type": "code",
   "execution_count": 171,
   "metadata": {},
   "outputs": [
    {
     "data": {
      "text/plain": [
       "Label                                                   Cleanser\n",
       "Brand                                             DRUNK ELEPHANT\n",
       "Name                       T.L.C. Framboos™ Glycolic Night Serum\n",
       "Price                                                         90\n",
       "Rank                                                         4.3\n",
       "Ingredients    Water, Glycolic Acid, Butylene Glycol, Glyceri...\n",
       "Combination                                                    1\n",
       "Dry                                                            1\n",
       "Normal                                                         1\n",
       "Oily                                                           1\n",
       "Sensitive                                                      0\n",
       "Name: 299, dtype: object"
      ]
     },
     "metadata": {},
     "output_type": "display_data"
    },
    {
     "name": "stdout",
     "output_type": "stream",
     "text": [
      "This cosmetics fits your skin type with 97%\n"
     ]
    }
   ],
   "source": [
    "cosmetics_with_ingredients(cleaned, label, skintype)"
   ]
  },
  {
   "cell_type": "markdown",
   "metadata": {},
   "source": [
    "## what to improve\n",
    "- when ingredients are given, bot skin type and label are not.(is not working properly)\n"
   ]
  },
  {
   "cell_type": "code",
   "execution_count": 30,
   "metadata": {},
   "outputs": [
    {
     "data": {
      "text/plain": [
       "['Combination', 'Dry', 'Normal', 'Oily', 'Sensitive']"
      ]
     },
     "execution_count": 30,
     "metadata": {},
     "output_type": "execute_result"
    }
   ],
   "source": [
    "df_label = df[df.Label.apply(lambda x: x in label)]\n",
    "skins = []\n",
    "the_best_one_test = df_label.iloc[120, ]\n",
    "if the_best_one_test.Combination ==1:\n",
    "    skins.append('Combination')\n",
    "if the_best_one_test.Dry == 1:\n",
    "    skins.append('Dry')\n",
    "if the_best_one_test.Normal == 1:\n",
    "    skins.append('Normal')\n",
    "if the_best_one_test.Oily == 1:\n",
    "    skins.append('Oily')\n",
    "if the_best_one_test.Sensitive ==1:\n",
    "    skins.append('Sensitive') \n",
    "    \n",
    "the_best_one_test \n",
    "skins"
   ]
  },
  {
   "cell_type": "code",
   "execution_count": null,
   "metadata": {},
   "outputs": [],
   "source": [
    "def cosmetics(label, skintype):\n",
    "    if ('Not sure' not in skintype) and ('Not sure' in label):\n",
    "        df_full = df[df.Rank >=4.5]\n",
    "        skintypes_test = {}\n",
    "        for i in df_full.index:\n",
    "            skins = []\n",
    "            the_best_one_test = df_full[df_full.index == i]\n",
    "            if the_best_one_test.Combination[i] == 1:\n",
    "                skins.append('Combination')\n",
    "            if the_best_one_test.Dry[i] == 1:\n",
    "                skins.append('Dry')\n",
    "            if the_best_one_test.Normal[i] == 1:\n",
    "                skins.append('Normal')\n",
    "            if the_best_one_test.Oily[i] == 1:\n",
    "                skins.append('Oily')\n",
    "            if the_best_one_test.Sensitive[i] ==1:\n",
    "                skins.append('Sensitive') \n",
    "            skintypes_test[i] = skins\n",
    "        matched=[]\n",
    "        for i, v in zip(skintypes_test.keys(), skintypes_test.values()):\n",
    "            if set(skintype).issubset(set(v)):\n",
    "                matched.append(i)\n",
    "        final = df_full.loc[matched]\n",
    "        final.drop_duplicates(inplace = True)\n",
    "        final.sort_values('Rank', ascending=False, inplace=True)\n",
    "        final.drop_duplicates('Label', inplace=True)\n",
    "        final = final[['Label','Brand', 'Name', 'Price', 'Rank']]\n",
    "        final.reset_index(inplace = True, drop=True)\n",
    "        \n",
    "        display(final)\n",
    "    elif ('Not sure' in skintype) and ('Not sure' not in label):\n",
    "        df_label = df[df.Label.apply(lambda x: x in label)]\n",
    "        df_label = df_label[df_label.Rank >=4.5]\n",
    "        skintypes_test = {}\n",
    "        for i in df_label.index:\n",
    "            skins = []\n",
    "            the_best_one_test = df_label[df_label.index == i]\n",
    "            if the_best_one_test.Combination[i] == 1:\n",
    "                skins.append('Combination')\n",
    "            if the_best_one_test.Dry[i] == 1:\n",
    "                skins.append('Dry')\n",
    "            if the_best_one_test.Normal[i] == 1:\n",
    "                skins.append('Normal')\n",
    "            if the_best_one_test.Oily[i] == 1:\n",
    "                skins.append('Oily')\n",
    "            if the_best_one_test.Sensitive[i] ==1:\n",
    "                skins.append('Sensitive') \n",
    "            skintypes_test[i] = skins\n",
    "\n",
    "        more_skins = []\n",
    "        for i, v in zip(skintypes_test.keys(), skintypes_test.values()):\n",
    "            if len(v) == 5:\n",
    "                more_skins.append(i)\n",
    "        if len(more_skins)==0:\n",
    "            for i, v in zip(skintypes_test.keys(), skintypes_test.values()):  \n",
    "                if len(v) == len(max(skintypes_test.values())):\n",
    "                    more_skins.append(i)\n",
    "\n",
    "\n",
    "        final = df_label.loc[more_skins]\n",
    "        final.drop_duplicates(inplace = True)\n",
    "        final.sort_values('Rank', ascending=False, inplace=True)\n",
    "        final.drop_duplicates('Brand', inplace=True)\n",
    "        final = final[['Brand', 'Name', 'Price', 'Oily', 'Combination', 'Dry', 'Sensitive', 'Normal']]\n",
    "        final.reset_index(inplace = True, drop=True)\n",
    "        final = final.style.set_properties(**{'background-color': 'thistle',                                                   \n",
    "                                      'color': 'navy',                       \n",
    "                                      'border-color': 'purple4'})\n",
    "        display(final)\n",
    "\n",
    "    elif ('Not sure' not in skintype) and ('Note sure' not in label):\n",
    "        df_label = df[df.Label.apply(lambda x: x in label)]\n",
    "        df_label = df_label[df_label.Rank >=4.5]\n",
    "        skintypes_test = {}\n",
    "        for i in df_label.index:\n",
    "            skins = []\n",
    "            the_best_one_test = df_label[df_label.index == i]\n",
    "            if the_best_one_test.Combination[i] == 1:\n",
    "                skins.append('Combination')\n",
    "            if the_best_one_test.Dry[i] == 1:\n",
    "                skins.append('Dry')\n",
    "            if the_best_one_test.Normal[i] == 1:\n",
    "                skins.append('Normal')\n",
    "            if the_best_one_test.Oily[i] == 1:\n",
    "                skins.append('Oily')\n",
    "            if the_best_one_test.Sensitive[i] ==1:\n",
    "                skins.append('Sensitive') \n",
    "            skintypes_test[i] = skins\n",
    "\n",
    "        matched=[]\n",
    "        for i, v in zip(skintypes_test.keys(), skintypes_test.values()):\n",
    "            if set(skintype).issubset(v):\n",
    "                matched.append(i)\n",
    "\n",
    "        final = df_label.loc[matched]\n",
    "        final.drop_duplicates(inplace = True)\n",
    "        final.sort_values('Rank', ascending=False, inplace=True)\n",
    "        final.drop_duplicates('Brand', inplace=True)\n",
    "        final = final[['Brand', 'Name', 'Price']]\n",
    "        final.reset_index(inplace = True, drop=True)\n",
    "        final = final.style.set_properties(**{'background-color': 'thistle',                                                   \n",
    "                                              'color': 'navy',                       \n",
    "                                              'border-color': 'purple4'})\n",
    "        display(final)\n",
    "    elif ('Not sure' in label) and ('Not sure' in skintype):\n",
    "        df_full = df[df.Rank >=4.5]\n",
    "        skintypes_test = {}\n",
    "        for i in df_full.index:\n",
    "            skins = []\n",
    "            the_best_one_test = df_full[df_full.index == i]\n",
    "            if the_best_one_test.Combination[i] == 1:\n",
    "                skins.append('Combination')\n",
    "            if the_best_one_test.Dry[i] == 1:\n",
    "                skins.append('Dry')\n",
    "            if the_best_one_test.Normal[i] == 1:\n",
    "                skins.append('Normal')\n",
    "            if the_best_one_test.Oily[i] == 1:\n",
    "                skins.append('Oily')\n",
    "            if the_best_one_test.Sensitive[i] ==1:\n",
    "                skins.append('Sensitive') \n",
    "            skintypes_test[i] = skins\n",
    "\n",
    "        more_skins = []\n",
    "        for i, v in zip(skintypes_test.keys(), skintypes_test.values()):\n",
    "            if len(v) == 5:\n",
    "                more_skins.append(i)\n",
    "        if len(more_skins)==0:\n",
    "            for i, v in zip(skintypes_test.keys(), skintypes_test.values()):  \n",
    "                if len(v) == len(max(skintypes_test.values())):\n",
    "                    more_skins.append(i)\n",
    "\n",
    "\n",
    "        final = df_full.loc[more_skins]\n",
    "        final.drop_duplicates(inplace = True)\n",
    "        final.sort_values('Rank', ascending=False, inplace=True)\n",
    "        final.drop_duplicates('Label', inplace=True)\n",
    "        final = final[['Label','Brand', 'Name', 'Price', 'Rank','Oily', 'Combination', 'Dry', 'Sensitive', 'Normal']]\n",
    "        final.reset_index(inplace = True, drop=True)\n",
    "        \n",
    "        display(final)"
   ]
  },
  {
   "cell_type": "code",
   "execution_count": null,
   "metadata": {},
   "outputs": [],
   "source": [
    "cosmetics(label, skintype)"
   ]
  }
 ],
 "metadata": {
  "kernelspec": {
   "display_name": "Python 3",
   "language": "python",
   "name": "python3"
  },
  "language_info": {
   "codemirror_mode": {
    "name": "ipython",
    "version": 3
   },
   "file_extension": ".py",
   "mimetype": "text/x-python",
   "name": "python",
   "nbconvert_exporter": "python",
   "pygments_lexer": "ipython3",
   "version": "3.8.5"
  }
 },
 "nbformat": 4,
 "nbformat_minor": 4
}
